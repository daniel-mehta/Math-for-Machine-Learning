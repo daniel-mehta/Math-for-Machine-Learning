{
 "cells": [
  {
   "cell_type": "markdown",
   "id": "22631df8-3db9-4c75-8214-1a0524ebef52",
   "metadata": {},
   "source": [
    "## Lab 4\n",
    "### Daniel Mehta #n01753264"
   ]
  },
  {
   "cell_type": "code",
   "execution_count": 3,
   "id": "97db00f2-5923-451c-a5a6-2dfaadfc9423",
   "metadata": {},
   "outputs": [],
   "source": [
    "import sympy as sp"
   ]
  },
  {
   "cell_type": "markdown",
   "id": "bbe7246b-d5ed-4583-a252-4e04f16045b8",
   "metadata": {},
   "source": [
    "## Question 1: Find Derivatives"
   ]
  },
  {
   "cell_type": "code",
   "execution_count": 8,
   "id": "6d421690-1b81-4e7b-b1cc-c99f621b16db",
   "metadata": {},
   "outputs": [
    {
     "name": "stdout",
     "output_type": "stream",
     "text": [
      "Derivative of S(w): 4*w**3/3 - 2*w/3 + 2/3\n",
      "Derivative of h(y): 3*(-3*y**5 + 8*y**3 - 6)/y**7\n",
      "Derivative of G(z): 2*z*(z - 1)*(2*z - 1)\n"
     ]
    }
   ],
   "source": [
    "w, y, z = sp.symbols('w y z')\n",
    "\n",
    "S_w = (w**2 * (2 - w) + w**5) / (3 * w)\n",
    "h_y = 3*y**-6 - 8*y**-3 + 9*y**-1\n",
    "G_z = z**2 * (z - 1)**2\n",
    "\n",
    "dS_dw = sp.simplify(sp.diff(S_w, w))\n",
    "dh_dy = sp.simplify(sp.diff(h_y, y))\n",
    "dG_dz = sp.simplify(sp.diff(G_z, z))\n",
    "\n",
    "print(\"Derivative of S(w):\", dS_dw)\n",
    "print(\"Derivative of h(y):\", dh_dy)\n",
    "print(\"Derivative of G(z):\", dG_dz)"
   ]
  },
  {
   "cell_type": "markdown",
   "id": "ba4691ed-1c76-4fcc-ad3c-a383083d6549",
   "metadata": {},
   "source": [
    "## Question 2"
   ]
  },
  {
   "cell_type": "code",
   "execution_count": 18,
   "id": "f0c5a109-cf92-4b9f-846e-eaba9ae84bee",
   "metadata": {},
   "outputs": [
    {
     "name": "stdout",
     "output_type": "stream",
     "text": [
      "Derivative (General): 24*t**5 - 36*t**2\n",
      "Slope at t = 1: -12\n"
     ]
    }
   ],
   "source": [
    "t, h = sp.symbols('t h')\n",
    "\n",
    "f_t =(3-2*t**3)**2\n",
    "\n",
    "f_t_h = f_t.subs(t,t+h)\n",
    "f_t_h\n",
    "\n",
    "difference_quotient = (f_t_h -f_t) / h\n",
    "difference_quotient\n",
    "\n",
    "derivative = sp.limit(difference_quotient, h, 0)\n",
    "derivative\n",
    "\n",
    "slope_at_1 = derivative.subs(t, 1)\n",
    "slope_at_1\n",
    "\n",
    "print(\"Derivative (General):\", derivative)\n",
    "print(\"Slope at t = 1:\", slope_at_1)"
   ]
  },
  {
   "cell_type": "markdown",
   "id": "1429d474-a5b5-41ce-8295-9de69a5f046d",
   "metadata": {},
   "source": [
    "## Question 3"
   ]
  },
  {
   "cell_type": "code",
   "execution_count": 31,
   "id": "b0e52112-8eff-41e8-adfe-20dc27d430f0",
   "metadata": {},
   "outputs": [
    {
     "name": "stdout",
     "output_type": "stream",
     "text": [
      "Critical point(s): [8]\n",
      "For t < 8 (e.g., t = 0), V'(t) = 192 so V(t) is increasing\n",
      "For t > 8 (e.g., t = 10), V'(t) = 12 so V(t) is increasing\n"
     ]
    }
   ],
   "source": [
    "t = sp.Symbol('t', real=True)\n",
    "\n",
    "V = t**3 -24*t**2 + 192*t - 50\n",
    "\n",
    "#derivative\n",
    "dV = sp.diff(V,t) \n",
    "dV\n",
    "\n",
    "\n",
    "#critical points\n",
    "critical_points =sp.solve(dV, t) \n",
    "print(\"Critical point(s):\", critical_points)\n",
    "\n",
    "\n",
    "test_points =[(0, \"t < 8\"),(10, \"t > 8\")] \n",
    "\n",
    "for pt, label in test_points:\n",
    "    derivative_value = dV.subs(t,pt)\n",
    "    if derivative_value > 0:\n",
    "        print(f\"For {label} (e.g., t = {pt}), V'(t) = {derivative_value} so V(t) is increasing\")\n",
    "    elif derivative_value<0:\n",
    "        print(f\"For {label} (e.g., t = {pt}), V'(t) = {derivative_value} so V(t) is decreasing\")\n",
    "    else:\n",
    "        print(f\"For {label} (e.g., t = {pt}), V'(t) = {derivative_value} so t = {pt} is a critical point\")"
   ]
  },
  {
   "cell_type": "markdown",
   "id": "c12b3fc3-0bc9-4944-87b6-cf9032f7d519",
   "metadata": {},
   "source": [
    "## Question 4"
   ]
  },
  {
   "cell_type": "code",
   "execution_count": 41,
   "id": "ca04000f-4c98-4e62-be44-37862c4f66c3",
   "metadata": {},
   "outputs": [
    {
     "name": "stdout",
     "output_type": "stream",
     "text": [
      "Derivative of f1: (3*x**3*log(x**4)*cos(x**3) + 4*sin(x**3))/x\n",
      "Derivative of f2: 1/(4*cosh(x/2)**2)\n",
      "Derivative of f3: (u - x)*exp(-(u - x)**2/(2*o**2))/o**2\n"
     ]
    }
   ],
   "source": [
    "x, u, o = sp.symbols('x u o', real=True)\n",
    "\n",
    "#First function\n",
    "f1 = sp.log(x**4) *sp.sin(x**3)\n",
    "df1 = sp.diff(f1, x)\n",
    "\n",
    "#Second function\n",
    "f2 = 1/(1+ sp.exp(-x))\n",
    "df2 = sp.diff(f2,x)\n",
    "\n",
    "#Thrid Function\n",
    "f3 = sp.exp(-(1/(2* o**2))*(x-u)**2)\n",
    "df3 = sp.diff(f3,x)\n",
    "\n",
    "print(\"Derivative of f1:\", df1.simplify())\n",
    "print(\"Derivative of f2:\", df2.simplify())\n",
    "print(\"Derivative of f3:\", df3.simplify())"
   ]
  },
  {
   "cell_type": "markdown",
   "id": "dc6f0bcc-a7ef-4578-95f2-eba0f4451a31",
   "metadata": {},
   "source": [
    "## Question 5"
   ]
  },
  {
   "cell_type": "code",
   "execution_count": 5,
   "id": "6a3adb23-0057-4f31-a7f5-1254257ee8b4",
   "metadata": {},
   "outputs": [
    {
     "name": "stdout",
     "output_type": "stream",
     "text": [
      "First derivative: (-12*w**2 - 8*w - 13)/(3*(9*w**2 + 6*w + 1))\n",
      "Second derivative: 70/(3*(27*w**3 + 27*w**2 + 9*w + 1))\n",
      "Third derivative: -210/(81*w**4 + 108*w**3 + 54*w**2 + 12*w + 1)\n"
     ]
    }
   ],
   "source": [
    "w = sp.symbols('w')\n",
    "\n",
    "f = ((1 - 4*w) * (2 + w)) / (3 + 9*w)\n",
    "\n",
    "df1 = sp.diff(f, w)\n",
    "df2 = sp.diff(df1,w)\n",
    "df3 = sp.diff(df2,w)\n",
    "\n",
    "print(\"First derivative:\", df1.simplify())\n",
    "print(\"Second derivative:\", df2.simplify())\n",
    "print(\"Third derivative:\", df3.simplify())\n"
   ]
  },
  {
   "cell_type": "markdown",
   "id": "f3acb7b6-b412-42b2-9c2d-390956d69388",
   "metadata": {},
   "source": [
    "## Question 6"
   ]
  },
  {
   "cell_type": "code",
   "execution_count": 13,
   "id": "3da35709-3d53-43b7-afe3-4652cae4b36f",
   "metadata": {},
   "outputs": [
    {
     "name": "stdout",
     "output_type": "stream",
     "text": [
      "Partial derivatives of w:\n",
      "dw/dx: -2*x*sin(x**2 + 2*y) - 4*exp(4*x - y*z**4)\n",
      "dw/dy: 3*y**2 + z**4*exp(4*x - y*z**4) - 2*sin(x**2 + 2*y)\n",
      "dw/dz: 4*y*z**3*exp(4*x - y*z**4)\n",
      "\n",
      "Partial derivatives of z:\n",
      "dz/dp: (2*p*(r + 1) + r*t**3*(2*p + 1)*exp(2*p + 3*r + 4*t))/t**3\n",
      "dz/dr: p*(p + t**3*(3*r + 1)*exp(2*p + 3*r + 4*t))/t**3\n",
      "dz/dt: p*(-3*p*(r + 1) + 4*r*t**4*exp(2*p + 3*r + 4*t))/t**4\n"
     ]
    }
   ],
   "source": [
    "x, y, z = sp.symbols('x y z')\n",
    "p, r, t = sp.symbols('p r t')\n",
    "\n",
    "w = sp.cos(x**2 + 2*y) - sp.exp(4*x - z**4 * y) + y**3\n",
    "dw_dx = sp.diff(w,x)\n",
    "dw_dy = sp.diff(w,y)\n",
    "dw_dz = sp.diff(w,z)\n",
    "\n",
    "z_func = (p**2 * (r + 1)) / t**3 + p*r * sp.exp(2*p + 3*r + 4*t)\n",
    "z_func\n",
    "dz_dp = sp.diff(z_func, p)\n",
    "dz_dr = sp.diff(z_func, r)\n",
    "dz_dt = sp.diff(z_func, t)\n",
    "\n",
    "print(\"Partial derivatives of w:\")\n",
    "print(\"dw/dx:\", dw_dx.simplify())\n",
    "print(\"dw/dy:\", dw_dy.simplify())\n",
    "print(\"dw/dz:\", dw_dz.simplify())\n",
    "\n",
    "print(\"\\nPartial derivatives of z:\")\n",
    "print(\"dz/dp:\", dz_dp.simplify())\n",
    "print(\"dz/dr:\", dz_dr.simplify())\n",
    "print(\"dz/dt:\", dz_dt.simplify())"
   ]
  },
  {
   "cell_type": "markdown",
   "id": "c609a0eb-a622-43b2-80a9-c12754b1a16d",
   "metadata": {},
   "source": [
    "## Question 7"
   ]
  },
  {
   "cell_type": "code",
   "execution_count": 18,
   "id": "b3897a63-0b25-4057-82db-c0b96311c2a8",
   "metadata": {},
   "outputs": [
    {
     "name": "stdout",
     "output_type": "stream",
     "text": [
      "Jacobian Matrix:\n",
      "[cos(x₁)⋅cos(x₂)  -sin(x₁)⋅sin(x₂)]\n",
      "Jacobian Dimension: (1, 2)\n"
     ]
    }
   ],
   "source": [
    "x1, x2 = sp.symbols('x1 x2')\n",
    "f1 = sp.sin(x1) * sp.cos(x2)\n",
    "f1\n",
    "\n",
    "J = sp.Matrix([[sp.diff(f1, x1),sp.diff(f1, x2)]])\n",
    "\n",
    "print(\"Jacobian Matrix:\")\n",
    "sp.pprint(J)\n",
    "print(\"Jacobian Dimension:\", J.shape)\n"
   ]
  },
  {
   "cell_type": "code",
   "execution_count": null,
   "id": "111486fe-30a0-4df1-b8ed-943d1fb02afd",
   "metadata": {},
   "outputs": [],
   "source": []
  }
 ],
 "metadata": {
  "kernelspec": {
   "display_name": "Python 3 (ipykernel)",
   "language": "python",
   "name": "python3"
  },
  "language_info": {
   "codemirror_mode": {
    "name": "ipython",
    "version": 3
   },
   "file_extension": ".py",
   "mimetype": "text/x-python",
   "name": "python",
   "nbconvert_exporter": "python",
   "pygments_lexer": "ipython3",
   "version": "3.8.5"
  }
 },
 "nbformat": 4,
 "nbformat_minor": 5
}
