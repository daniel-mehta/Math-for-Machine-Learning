{
 "cells": [
  {
   "cell_type": "markdown",
   "id": "22631df8-3db9-4c75-8214-1a0524ebef52",
   "metadata": {},
   "source": [
    "## Lab 4\n",
    "### Daniel Mehta #n01753264"
   ]
  },
  {
   "cell_type": "code",
   "execution_count": 1,
   "id": "97db00f2-5923-451c-a5a6-2dfaadfc9423",
   "metadata": {},
   "outputs": [],
   "source": [
    "import sympy as sp"
   ]
  },
  {
   "cell_type": "markdown",
   "id": "bbe7246b-d5ed-4583-a252-4e04f16045b8",
   "metadata": {},
   "source": [
    "## Question 1: Find Derivatives"
   ]
  },
  {
   "cell_type": "code",
   "execution_count": 8,
   "id": "6d421690-1b81-4e7b-b1cc-c99f621b16db",
   "metadata": {},
   "outputs": [
    {
     "name": "stdout",
     "output_type": "stream",
     "text": [
      "Derivative of S(w): 4*w**3/3 - 2*w/3 + 2/3\n",
      "Derivative of h(y): 3*(-3*y**5 + 8*y**3 - 6)/y**7\n",
      "Derivative of G(z): 2*z*(z - 1)*(2*z - 1)\n"
     ]
    }
   ],
   "source": [
    "w, y, z = sp.symbols('w y z')\n",
    "\n",
    "S_w = (w**2 * (2 - w) + w**5) / (3 * w)\n",
    "h_y = 3*y**-6 - 8*y**-3 + 9*y**-1\n",
    "G_z = z**2 * (z - 1)**2\n",
    "\n",
    "dS_dw = sp.simplify(sp.diff(S_w, w))\n",
    "dh_dy = sp.simplify(sp.diff(h_y, y))\n",
    "dG_dz = sp.simplify(sp.diff(G_z, z))\n",
    "\n",
    "print(\"Derivative of S(w):\", dS_dw)\n",
    "print(\"Derivative of h(y):\", dh_dy)\n",
    "print(\"Derivative of G(z):\", dG_dz)"
   ]
  },
  {
   "cell_type": "markdown",
   "id": "ba4691ed-1c76-4fcc-ad3c-a383083d6549",
   "metadata": {},
   "source": [
    "## Question 2"
   ]
  },
  {
   "cell_type": "code",
   "execution_count": 18,
   "id": "f0c5a109-cf92-4b9f-846e-eaba9ae84bee",
   "metadata": {},
   "outputs": [
    {
     "name": "stdout",
     "output_type": "stream",
     "text": [
      "Derivative (General): 24*t**5 - 36*t**2\n",
      "Slope at t = 1: -12\n"
     ]
    }
   ],
   "source": [
    "t, h = sp.symbols('t h')\n",
    "\n",
    "f_t =(3-2*t**3)**2\n",
    "\n",
    "f_t_h = f_t.subs(t,t+h)\n",
    "f_t_h\n",
    "\n",
    "difference_quotient = (f_t_h -f_t) / h\n",
    "difference_quotient\n",
    "\n",
    "derivative = sp.limit(difference_quotient, h, 0)\n",
    "derivative\n",
    "\n",
    "slope_at_1 = derivative.subs(t, 1)\n",
    "slope_at_1\n",
    "\n",
    "print(\"Derivative (General):\", derivative)\n",
    "print(\"Slope at t = 1:\", slope_at_1)"
   ]
  },
  {
   "cell_type": "markdown",
   "id": "1429d474-a5b5-41ce-8295-9de69a5f046d",
   "metadata": {},
   "source": [
    "## Question 3"
   ]
  },
  {
   "cell_type": "code",
   "execution_count": 31,
   "id": "b0e52112-8eff-41e8-adfe-20dc27d430f0",
   "metadata": {},
   "outputs": [
    {
     "name": "stdout",
     "output_type": "stream",
     "text": [
      "Critical point(s): [8]\n",
      "For t < 8 (e.g., t = 0), V'(t) = 192 so V(t) is increasing\n",
      "For t > 8 (e.g., t = 10), V'(t) = 12 so V(t) is increasing\n"
     ]
    }
   ],
   "source": [
    "t = sp.Symbol('t', real=True)\n",
    "\n",
    "V = t**3 -24*t**2 + 192*t - 50\n",
    "\n",
    "#derivative\n",
    "dV = sp.diff(V,t) \n",
    "dV\n",
    "\n",
    "\n",
    "#critical points\n",
    "critical_points =sp.solve(dV, t) \n",
    "print(\"Critical point(s):\", critical_points)\n",
    "\n",
    "\n",
    "test_points =[(0, \"t < 8\"),(10, \"t > 8\")] \n",
    "\n",
    "for pt, label in test_points:\n",
    "    derivative_value = dV.subs(t,pt)\n",
    "    if derivative_value > 0:\n",
    "        print(f\"For {label} (e.g., t = {pt}), V'(t) = {derivative_value} so V(t) is increasing\")\n",
    "    elif derivative_value<0:\n",
    "        print(f\"For {label} (e.g., t = {pt}), V'(t) = {derivative_value} so V(t) is decreasing\")\n",
    "    else:\n",
    "        print(f\"For {label} (e.g., t = {pt}), V'(t) = {derivative_value} so t = {pt} is a critical point\")"
   ]
  },
  {
   "cell_type": "code",
   "execution_count": null,
   "id": "ca04000f-4c98-4e62-be44-37862c4f66c3",
   "metadata": {},
   "outputs": [],
   "source": []
  }
 ],
 "metadata": {
  "kernelspec": {
   "display_name": "Python 3 (ipykernel)",
   "language": "python",
   "name": "python3"
  },
  "language_info": {
   "codemirror_mode": {
    "name": "ipython",
    "version": 3
   },
   "file_extension": ".py",
   "mimetype": "text/x-python",
   "name": "python",
   "nbconvert_exporter": "python",
   "pygments_lexer": "ipython3",
   "version": "3.8.5"
  }
 },
 "nbformat": 4,
 "nbformat_minor": 5
}
