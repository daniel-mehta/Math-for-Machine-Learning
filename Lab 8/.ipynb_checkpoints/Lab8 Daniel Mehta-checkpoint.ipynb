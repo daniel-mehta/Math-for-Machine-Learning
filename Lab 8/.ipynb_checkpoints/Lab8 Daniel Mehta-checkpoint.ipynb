{
 "cells": [
  {
   "cell_type": "markdown",
   "id": "4592eea7-65ed-49b9-a36a-0b0b067c571b",
   "metadata": {},
   "source": [
    "# Lab 8\n",
    "## Daniel Mehta n01753264"
   ]
  },
  {
   "cell_type": "code",
   "execution_count": 1,
   "id": "bb27a500-0f90-4f4d-9989-6f2e509530bb",
   "metadata": {},
   "outputs": [],
   "source": [
    "import numpy as np"
   ]
  },
  {
   "cell_type": "markdown",
   "id": "de87c4fc-e9bc-409a-b372-698989f19f22",
   "metadata": {},
   "source": [
    "## Question 1\n",
    "A teacher wants to analyze the performance of students in a math test. Given the scores: scores = [78, 85, 90, 92, 88, 76, 95]\n",
    " \n",
    "Compute and print the variance to understand the spread of scores."
   ]
  },
  {
   "cell_type": "code",
   "execution_count": 4,
   "id": "cce08354-e87a-4e09-ba85-dce286a893cc",
   "metadata": {},
   "outputs": [
    {
     "name": "stdout",
     "output_type": "stream",
     "text": [
      "Variance of scores: 43.06122448979592\n"
     ]
    }
   ],
   "source": [
    "scores = [78, 85, 90, 92, 88, 76, 95]\n",
    "\n",
    "variance = np.var(scores)\n",
    "\n",
    "print(f\"Variance of scores: {variance}\")"
   ]
  },
  {
   "cell_type": "code",
   "execution_count": null,
   "id": "fa41c5de-2274-4448-afc3-06017311a716",
   "metadata": {},
   "outputs": [],
   "source": []
  }
 ],
 "metadata": {
  "kernelspec": {
   "display_name": "Python 3 (ipykernel)",
   "language": "python",
   "name": "python3"
  },
  "language_info": {
   "codemirror_mode": {
    "name": "ipython",
    "version": 3
   },
   "file_extension": ".py",
   "mimetype": "text/x-python",
   "name": "python",
   "nbconvert_exporter": "python",
   "pygments_lexer": "ipython3",
   "version": "3.8.5"
  }
 },
 "nbformat": 4,
 "nbformat_minor": 5
}
