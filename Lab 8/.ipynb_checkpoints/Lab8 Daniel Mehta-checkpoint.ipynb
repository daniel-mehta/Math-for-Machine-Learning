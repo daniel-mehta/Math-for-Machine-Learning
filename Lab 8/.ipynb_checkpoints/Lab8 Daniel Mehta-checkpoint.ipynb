{
 "cells": [
  {
   "cell_type": "markdown",
   "id": "4592eea7-65ed-49b9-a36a-0b0b067c571b",
   "metadata": {},
   "source": [
    "# Lab 8\n",
    "## Daniel Mehta n01753264"
   ]
  },
  {
   "cell_type": "code",
   "execution_count": 13,
   "id": "bb27a500-0f90-4f4d-9989-6f2e509530bb",
   "metadata": {},
   "outputs": [],
   "source": [
    "import numpy as np\n",
    "import scipy.stats as stats\n",
    "import matplotlib.pyplot as plt"
   ]
  },
  {
   "cell_type": "markdown",
   "id": "de87c4fc-e9bc-409a-b372-698989f19f22",
   "metadata": {},
   "source": [
    "## Question 1\n",
    "A teacher wants to analyze the performance of students in a math test. Given the scores: scores = [78, 85, 90, 92, 88, 76, 95]\n",
    " \n",
    "Compute and print the variance to understand the spread of scores."
   ]
  },
  {
   "cell_type": "code",
   "execution_count": 4,
   "id": "cce08354-e87a-4e09-ba85-dce286a893cc",
   "metadata": {},
   "outputs": [
    {
     "name": "stdout",
     "output_type": "stream",
     "text": [
      "Variance of scores: 43.06122448979592\n"
     ]
    }
   ],
   "source": [
    "scores = [78, 85, 90, 92, 88, 76, 95]\n",
    "\n",
    "variance = np.var(scores)\n",
    "\n",
    "print(f\"Variance of scores: {variance}\")"
   ]
  },
  {
   "cell_type": "markdown",
   "id": "5a4735b7-9d0f-45b1-ae2a-d41ac2aa1456",
   "metadata": {},
   "source": [
    "## Question 2: \n",
    "The teacher also wants to measure how much the scores deviate from the average.\n",
    "\n",
    "Compute and print the standard deviation of the scores."
   ]
  },
  {
   "cell_type": "code",
   "execution_count": 5,
   "id": "4e3cfa46-17bb-473b-be3d-6575257b68a4",
   "metadata": {},
   "outputs": [
    {
     "name": "stdout",
     "output_type": "stream",
     "text": [
      "Standard Deviation of scores: 6.562105187346201\n"
     ]
    }
   ],
   "source": [
    "std_dev = np.std(scores)\n",
    "print(f\"Standard Deviation of scores: {std_dev}\")"
   ]
  },
  {
   "cell_type": "markdown",
   "id": "7c8ab2a6-473d-4063-9677-95051a2e55cc",
   "metadata": {},
   "source": [
    "## Question 3: \n",
    "A company wants to analyze the relationship between employee experience (in years) andtheir productivity score.\n",
    "\n",
    "experience = [1, 2, 3, 4, 5]\n",
    "\n",
    "productivity = [50, 55, 65, 70, 80]\n",
    "\n",
    "Compute and print Pearson correlation to assess the linear relationship."
   ]
  },
  {
   "cell_type": "code",
   "execution_count": 7,
   "id": "92b919a5-337c-4d92-9cc2-3a7768159729",
   "metadata": {},
   "outputs": [
    {
     "name": "stdout",
     "output_type": "stream",
     "text": [
      "Pearson Correlation Coefficient: 0.9933992677987827\n"
     ]
    }
   ],
   "source": [
    "experience = [1, 2, 3, 4, 5]\n",
    "productivity = [50, 55, 65, 70, 80]\n",
    "\n",
    "correlation = np.corrcoef(experience, productivity)[0, 1]\n",
    "\n",
    "print(f\"Pearson Correlation Coefficient: {correlation}\")"
   ]
  },
  {
   "cell_type": "markdown",
   "id": "787d3992-0c39-4e1d-9926-eee48472e7d8",
   "metadata": {},
   "source": [
    "## Question 4: \n",
    "The HR department is interested in determining if there is a monotonic relationship between employee experience and productivity.\n",
    "\n",
    "Compute and print Spearman correlation"
   ]
  },
  {
   "cell_type": "code",
   "execution_count": 12,
   "id": "25522699-2179-4d70-877e-b1e391a3d9bf",
   "metadata": {},
   "outputs": [
    {
     "name": "stdout",
     "output_type": "stream",
     "text": [
      "Spearman Correlation Coefficient: 0.9999999999999999\n"
     ]
    }
   ],
   "source": [
    "experience = [1, 2, 3, 4, 5]\n",
    "productivity = [50, 55, 65, 70, 80]\n",
    "\n",
    "spearman_corr, _= stats.spearmanr(experience, productivity)\n",
    "\n",
    "print(f\"Spearman Correlation Coefficient: {spearman_corr}\")"
   ]
  },
  {
   "cell_type": "markdown",
   "id": "22a09b7e-c088-421f-8c54-31079cd3fa9b",
   "metadata": {},
   "source": [
    "## Question 5: \n",
    "A business analyst wants to visualize the relationship between advertising spending and sales.\n",
    "\n",
    "ad_spending = [100, 200, 300, 400, 500]\n",
    "\n",
    "sales = [20, 40, 60, 80, 100]\n",
    "\n",
    "Generate and display a scatter plot."
   ]
  },
  {
   "cell_type": "code",
   "execution_count": 17,
   "id": "300562c1-d329-49a8-b407-bc0b15cb1e80",
   "metadata": {},
   "outputs": [
    {
     "data": {
      "image/png": "[encoded data removed]",
      "text/plain": [
       "<Figure size 640x480 with 1 Axes>"
      ]
     },
     "metadata": {},
     "output_type": "display_data"
    }
   ],
   "source": [
    "ad_spending = [100, 200, 300, 400, 500]\n",
    "sales = [20, 40, 60, 80, 100]\n",
    "\n",
    "plt.scatter(ad_spending, sales)\n",
    "\n",
    "plt.xlabel(\"Ad Spending\")\n",
    "plt.ylabel(\"Sales\")\n",
    "plt.title(\"Ad Spending vs Sales\")\n",
    "\n",
    "plt.grid(True)\n",
    "plt.show()"
   ]
  },
  {
   "cell_type": "code",
   "execution_count": null,
   "id": "d797afe4-baec-4d03-ab92-8a9a5c7ec353",
   "metadata": {},
   "outputs": [],
   "source": []
  }
 ],
 "metadata": {
  "kernelspec": {
   "display_name": "Python 3 (ipykernel)",
   "language": "python",
   "name": "python3"
  },
  "language_info": {
   "codemirror_mode": {
    "name": "ipython",
    "version": 3
   },
   "file_extension": ".py",
   "mimetype": "text/x-python",
   "name": "python",
   "nbconvert_exporter": "python",
   "pygments_lexer": "ipython3",
   "version": "3.8.5"
  }
 },
 "nbformat": 4,
 "nbformat_minor": 5
}
