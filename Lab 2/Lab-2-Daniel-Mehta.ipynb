{
 "cells": [
  {
   "cell_type": "markdown",
   "id": "1df17402-5a9c-4beb-963e-ab878b799e53",
   "metadata": {},
   "source": [
    "Daniel Mehta #n01753264"
   ]
  },
  {
   "cell_type": "code",
   "execution_count": 2,
   "id": "a92381cc-b025-427f-bbae-6226fd78d386",
   "metadata": {},
   "outputs": [],
   "source": [
    "import numpy as np"
   ]
  },
  {
   "cell_type": "markdown",
   "id": "9ab893f9-b89f-4477-a56a-6d5027a301e3",
   "metadata": {},
   "source": [
    "Question 1: Find the Manhattan norm of the vector v= (2,3,4,5)"
   ]
  },
  {
   "cell_type": "code",
   "execution_count": 4,
   "id": "72197c3e-cf87-4aab-8213-746c9898fad3",
   "metadata": {},
   "outputs": [
    {
     "data": {
      "text/plain": [
       "14.0"
      ]
     },
     "execution_count": 4,
     "metadata": {},
     "output_type": "execute_result"
    }
   ],
   "source": [
    "v = np.array([2,3,4,5])\n",
    "man_norm = np.linalg.norm(v, ord=1)\n",
    "man_norm"
   ]
  },
  {
   "cell_type": "markdown",
   "id": "9a96cb1d-2f8e-4ba5-b996-d86c75fd4be2",
   "metadata": {},
   "source": [
    "Question 2: Compute the distance between the two points a=(1,2,3) and b=(-1,-1,0)"
   ]
  },
  {
   "cell_type": "code",
   "execution_count": 9,
   "id": "89c8ebd8-adc2-4d06-9bd0-7cd2c31a3bc5",
   "metadata": {},
   "outputs": [
    {
     "data": {
      "text/plain": [
       "4.69041575982343"
      ]
     },
     "execution_count": 9,
     "metadata": {},
     "output_type": "execute_result"
    }
   ],
   "source": [
    "p1 = np.array([1,2,3])\n",
    "p2 = np.array([-1,-1,0])\n",
    "\n",
    "dist = np.linalg.norm(p1-p2)\n",
    "dist"
   ]
  },
  {
   "cell_type": "code",
   "execution_count": null,
   "id": "218d76bc-42ef-49fc-9a06-80c998af3a39",
   "metadata": {},
   "outputs": [],
   "source": []
  },
  {
   "cell_type": "code",
   "execution_count": null,
   "id": "bfde6bbc-a25e-4945-a948-f6cefadb7f6b",
   "metadata": {},
   "outputs": [],
   "source": []
  },
  {
   "cell_type": "code",
   "execution_count": null,
   "id": "5e6e70e5-a337-4343-980e-d0e7c89cf07b",
   "metadata": {},
   "outputs": [],
   "source": []
  }
 ],
 "metadata": {
  "kernelspec": {
   "display_name": "Python 3 (ipykernel)",
   "language": "python",
   "name": "python3"
  },
  "language_info": {
   "codemirror_mode": {
    "name": "ipython",
    "version": 3
   },
   "file_extension": ".py",
   "mimetype": "text/x-python",
   "name": "python",
   "nbconvert_exporter": "python",
   "pygments_lexer": "ipython3",
   "version": "3.8.5"
  }
 },
 "nbformat": 4,
 "nbformat_minor": 5
}
