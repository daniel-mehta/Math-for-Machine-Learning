{
 "cells": [
  {
   "cell_type": "markdown",
   "id": "1df17402-5a9c-4beb-963e-ab878b799e53",
   "metadata": {},
   "source": [
    "Daniel Mehta #n01753264"
   ]
  },
  {
   "cell_type": "code",
   "execution_count": 2,
   "id": "a92381cc-b025-427f-bbae-6226fd78d386",
   "metadata": {},
   "outputs": [],
   "source": [
    "import numpy as np"
   ]
  },
  {
   "cell_type": "markdown",
   "id": "9ab893f9-b89f-4477-a56a-6d5027a301e3",
   "metadata": {},
   "source": [
    "Question 1: Find the Manhattan norm of the vector v= (2,3,4,5)"
   ]
  },
  {
   "cell_type": "code",
   "execution_count": 4,
   "id": "72197c3e-cf87-4aab-8213-746c9898fad3",
   "metadata": {},
   "outputs": [
    {
     "data": {
      "text/plain": [
       "14.0"
      ]
     },
     "execution_count": 4,
     "metadata": {},
     "output_type": "execute_result"
    }
   ],
   "source": [
    "v = np.array([2,3,4,5])\n",
    "man_norm = np.linalg.norm(v, ord=1)\n",
    "man_norm"
   ]
  },
  {
   "cell_type": "markdown",
   "id": "9a96cb1d-2f8e-4ba5-b996-d86c75fd4be2",
   "metadata": {},
   "source": [
    "Question 2: Compute the distance between the two points a=(1,2,3) and b=(-1,-1,0)"
   ]
  },
  {
   "cell_type": "code",
   "execution_count": 13,
   "id": "89c8ebd8-adc2-4d06-9bd0-7cd2c31a3bc5",
   "metadata": {},
   "outputs": [
    {
     "data": {
      "text/plain": [
       "4.69041575982343"
      ]
     },
     "execution_count": 13,
     "metadata": {},
     "output_type": "execute_result"
    }
   ],
   "source": [
    "a = np.array([1,2,3])\n",
    "b = np.array([-1,-1,0])\n",
    "\n",
    "dist = np.linalg.norm(a-b)\n",
    "dist"
   ]
  },
  {
   "cell_type": "markdown",
   "id": "f185fccf-7662-4ccf-8721-57b6441d458e",
   "metadata": {},
   "source": [
    "Question 3: Compute the angle between the two vectors v=(1,2) and w=(-1,-1)"
   ]
  },
  {
   "cell_type": "code",
   "execution_count": 19,
   "id": "bfde6bbc-a25e-4945-a948-f6cefadb7f6b",
   "metadata": {},
   "outputs": [
    {
     "name": "stdout",
     "output_type": "stream",
     "text": [
      "Dot Product: -3\n",
      "Angle: 161.565051177078\n"
     ]
    }
   ],
   "source": [
    "v = np.array([1,2])\n",
    "w = np.array([-1,-1])\n",
    "\n",
    "#Calcs the dot product of vectors\n",
    "dot_product = np.sum(v * w) \n",
    "\n",
    "#Clacs the magnitude\n",
    "magnitude_v = np.linalg.norm(v)\n",
    "magnitude_w = np.linalg.norm(w)\n",
    "\n",
    "#Calcs the cosine \n",
    "cos = dot_product / (magnitude_v * magnitude_w)\n",
    "\n",
    "#Uses arccos to find the angle in radians then convert to degrees\n",
    "angle_radians = np.arccos(cos)\n",
    "angle_degrees = np.degrees(angle_radians)\n",
    "\n",
    "\n",
    "print(f\"Dot Product: {dot_product}\")\n",
    "print(f\"Angle: {angle_degrees}\")"
   ]
  },
  {
   "cell_type": "markdown",
   "id": "ac432a95-e0ac-45c3-9edd-1981cfa167d4",
   "metadata": {},
   "source": [
    "Question 4: Show that these two vectors are orthogonal v=(4,-2,3,5) and w = (-1,1,2,0)"
   ]
  },
  {
   "cell_type": "code",
   "execution_count": 27,
   "id": "fc1293b8-3d0c-4b40-8144-7414c5b4af60",
   "metadata": {},
   "outputs": [
    {
     "name": "stdout",
     "output_type": "stream",
     "text": [
      "Dot Product: 0\n",
      "Therefore the two vectors are orthogonal\n"
     ]
    }
   ],
   "source": [
    "v = np.array([4,-2,3,5])\n",
    "w = ([-1,1,2,0])\n",
    "\n",
    "dot_proudct = np.dot(v, w)\n",
    "print(f\"Dot Product: {dot_proudct}\")\n",
    "if dot_proudct == 0:\n",
    "    print(f\"Therefore the two vectors are orthogonal\")\n",
    "else:\n",
    "    print(f\"Therefore the two vectors are NOT orthogonal\")"
   ]
  },
  {
   "cell_type": "markdown",
   "id": "d3200b5c-64b7-4509-91a7-ef0f77c28d0d",
   "metadata": {},
   "source": [
    "Question 5: Find any unit vector orthogonal to v=(2,3,4)"
   ]
  },
  {
   "cell_type": "code",
   "execution_count": 42,
   "id": "3d7246a3-1d38-4e83-9305-e3430b58b5cc",
   "metadata": {},
   "outputs": [
    {
     "name": "stdout",
     "output_type": "stream",
     "text": [
      "Unit Orthogonal Vector: [-0.55708601  0.77370064 -0.30173248]\n",
      "2.220446049250313e-16\n"
     ]
    }
   ],
   "source": [
    "v = np.array([2,3,4])\n",
    "#reshape into column\n",
    "v = v[:, np.newaxis]\n",
    "\n",
    "#SVD to find an orthonormal basis\n",
    "u, _, _ = np.linalg.svd(v, full_matrices=True)\n",
    "\n",
    "#Extract a vector orthogonal to v\n",
    "orthogonal_vector = u[:, 1]\n",
    "\n",
    "#Normalize the orthogonal vector to make it a unit vector\n",
    "unit_orthogonal_vector = orthogonal_vector / np.linalg.norm(orthogonal_vector)\n",
    "\n",
    "print(\"Unit Orthogonal Vector:\", unit_orthogonal_vector)\n",
    "\n",
    "#Testing that its close to 0\n",
    "print(np.dot(v.flatten(), unit_orthogonal_vector)) \n"
   ]
  },
  {
   "cell_type": "code",
   "execution_count": null,
   "id": "89432183-1a33-4e8e-a97f-4725851ba9fb",
   "metadata": {},
   "outputs": [],
   "source": []
  },
  {
   "cell_type": "code",
   "execution_count": null,
   "id": "965dad06-96dd-4c7f-874c-b733dc262315",
   "metadata": {},
   "outputs": [],
   "source": []
  }
 ],
 "metadata": {
  "kernelspec": {
   "display_name": "Python 3 (ipykernel)",
   "language": "python",
   "name": "python3"
  },
  "language_info": {
   "codemirror_mode": {
    "name": "ipython",
    "version": 3
   },
   "file_extension": ".py",
   "mimetype": "text/x-python",
   "name": "python",
   "nbconvert_exporter": "python",
   "pygments_lexer": "ipython3",
   "version": "3.8.5"
  }
 },
 "nbformat": 4,
 "nbformat_minor": 5
}
