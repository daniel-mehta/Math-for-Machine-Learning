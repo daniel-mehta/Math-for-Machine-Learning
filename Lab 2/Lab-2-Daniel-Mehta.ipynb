{
 "cells": [
  {
   "cell_type": "markdown",
   "id": "1df17402-5a9c-4beb-963e-ab878b799e53",
   "metadata": {},
   "source": [
    "Daniel Mehta #n01753264"
   ]
  },
  {
   "cell_type": "code",
   "execution_count": 1,
   "id": "a92381cc-b025-427f-bbae-6226fd78d386",
   "metadata": {},
   "outputs": [],
   "source": [
    "import numpy as np"
   ]
  },
  {
   "cell_type": "markdown",
   "id": "9ab893f9-b89f-4477-a56a-6d5027a301e3",
   "metadata": {},
   "source": [
    "Question 1: Find the Manhattan norm of the vector v= (2,3,4,5)"
   ]
  },
  {
   "cell_type": "code",
   "execution_count": 6,
   "id": "72197c3e-cf87-4aab-8213-746c9898fad3",
   "metadata": {},
   "outputs": [
    {
     "data": {
      "text/plain": [
       "14.0"
      ]
     },
     "execution_count": 6,
     "metadata": {},
     "output_type": "execute_result"
    }
   ],
   "source": [
    "v = np.array([2,3,4,5])\n",
    "man_norm = np.linalg.norm(v, ord=1)\n",
    "man_norm"
   ]
  },
  {
   "cell_type": "code",
   "execution_count": null,
   "id": "97b1b50f-4ba3-447a-8082-865d9be7052c",
   "metadata": {},
   "outputs": [],
   "source": []
  }
 ],
 "metadata": {
  "kernelspec": {
   "display_name": "Python 3 (ipykernel)",
   "language": "python",
   "name": "python3"
  },
  "language_info": {
   "codemirror_mode": {
    "name": "ipython",
    "version": 3
   },
   "file_extension": ".py",
   "mimetype": "text/x-python",
   "name": "python",
   "nbconvert_exporter": "python",
   "pygments_lexer": "ipython3",
   "version": "3.8.5"
  }
 },
 "nbformat": 4,
 "nbformat_minor": 5
}
