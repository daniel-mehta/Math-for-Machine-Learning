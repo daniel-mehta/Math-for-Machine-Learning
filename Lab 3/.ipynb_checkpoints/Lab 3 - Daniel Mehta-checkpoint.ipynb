{
 "cells": [
  {
   "cell_type": "markdown",
   "id": "7059be55-7e7e-4f9d-8d22-9350acde5af4",
   "metadata": {},
   "source": [
    "## Lab 3\n",
    "### Daniel Mehta #n01753264"
   ]
  },
  {
   "cell_type": "code",
   "execution_count": 2,
   "id": "038d1940-8fdb-4c03-8296-bb857d995205",
   "metadata": {},
   "outputs": [],
   "source": [
    "import numpy as np"
   ]
  },
  {
   "cell_type": "markdown",
   "id": "f29b7b15-4a1b-4439-9b6a-d865c2de518a",
   "metadata": {},
   "source": [
    "### 1A)"
   ]
  },
  {
   "cell_type": "code",
   "execution_count": 11,
   "id": "d2a22a7d-f37e-45c2-b48e-885aeba81fc4",
   "metadata": {},
   "outputs": [
    {
     "name": "stdout",
     "output_type": "stream",
     "text": [
      "A * x1 = [ 3 -1  0]\n"
     ]
    }
   ],
   "source": [
    "A = np.array([[2, 3, 0],\n",
    "              [1, 4, 3],\n",
    "              [0, 0, 1]])\n",
    "x1 = np.array([3, -1, 0])\n",
    "\n",
    "Ax1 = np.dot(A, x1)\n",
    "\n",
    "\n",
    "print(\"A * x1 =\", Ax1)"
   ]
  },
  {
   "cell_type": "markdown",
   "id": "0cc92c8e-e10f-42ac-8ec5-ec14d63b133d",
   "metadata": {},
   "source": [
    "### 1B)"
   ]
  },
  {
   "cell_type": "code",
   "execution_count": 13,
   "id": "3b29c38c-086f-4070-9a11-b51aa5f8b6f5",
   "metadata": {},
   "outputs": [
    {
     "name": "stdout",
     "output_type": "stream",
     "text": [
      "Eigenvalue: 1.0\n",
      "Is x1 an eigenvector of A? True\n"
     ]
    }
   ],
   "source": [
    "eigenvalue = Ax1[0] / x1[0]\n",
    "\n",
    "is_eigenvector = np.allclose(Ax1, eigenvalue * x1)\n",
    "\n",
    "print(\"Eigenvalue:\", eigenvalue)\n",
    "print(\"Is x1 an eigenvector of A?\", is_eigenvector)"
   ]
  },
  {
   "cell_type": "markdown",
   "id": "c171827e-14a4-4bad-8f05-234f1e06b028",
   "metadata": {},
   "source": [
    "### 2)"
   ]
  },
  {
   "cell_type": "code",
   "execution_count": 21,
   "id": "829dcafa-d11b-46f4-8342-a836479a8d84",
   "metadata": {},
   "outputs": [
    {
     "name": "stdout",
     "output_type": "stream",
     "text": [
      "Eigenvalues = [5. 2.]\n",
      "Eigenvectors =  \n",
      "[[ 0.89442719 -0.70710678]\n",
      " [ 0.4472136   0.70710678]]\n"
     ]
    }
   ],
   "source": [
    "A = np.array([[4,2],[1,3]])\n",
    "\n",
    "eigenvalues, eigenvectors = np.linalg.eig(A)\n",
    "\n",
    "print(f'Eigenvalues = {eigenvalues}') \n",
    "print(f'Eigenvectors =  \\n{eigenvectors}')"
   ]
  },
  {
   "cell_type": "markdown",
   "id": "1efcc40b-32d4-4959-8dc4-128708cca843",
   "metadata": {},
   "source": [
    "### 3)"
   ]
  },
  {
   "cell_type": "code",
   "execution_count": 27,
   "id": "591de9cc-fa84-4afe-9950-a69c98d2c438",
   "metadata": {},
   "outputs": [
    {
     "name": "stdout",
     "output_type": "stream",
     "text": [
      "Eigenvalues:\n",
      "[1. 7. 1.]\n",
      "\n",
      "Eigenvectors:\n",
      "[[-0.81649658  0.57735027 -0.09365858]\n",
      " [ 0.40824829  0.57735027 -0.65561007]\n",
      " [ 0.40824829  0.57735027  0.74926865]]\n",
      "Eigenspace for eigenvalue 0.9999999999999987:\n",
      "[-0.81649658  0.40824829  0.40824829]\n",
      "\n",
      "Eigenspace for eigenvalue 6.999999999999998:\n",
      "[0.57735027 0.57735027 0.57735027]\n",
      "\n",
      "Eigenspace for eigenvalue 0.9999999999999998:\n",
      "[-0.09365858 -0.65561007  0.74926865]\n",
      "\n"
     ]
    }
   ],
   "source": [
    "A = np.array([[3, 2, 2],[2,3,2],[2,2,3]])\n",
    "eigenvalues, eigenvectors = np.linalg.eig(A)\n",
    "\n",
    "print(\"Eigenvalues:\")\n",
    "print(eigenvalues)\n",
    "\n",
    "print(\"\\nEigenvectors:\")\n",
    "print(eigenvectors)\n",
    "\n",
    "for i, eigenvalue in enumerate(eigenvalues):\n",
    "    print(f\"Eigenspace for eigenvalue {eigenvalue}:\")\n",
    "    print(eigenvectors[:, i])\n",
    "    print()"
   ]
  },
  {
   "cell_type": "code",
   "execution_count": null,
   "id": "25ef620c-c5c7-454f-aef0-e37602eb54d0",
   "metadata": {},
   "outputs": [],
   "source": []
  }
 ],
 "metadata": {
  "kernelspec": {
   "display_name": "Python 3 (ipykernel)",
   "language": "python",
   "name": "python3"
  },
  "language_info": {
   "codemirror_mode": {
    "name": "ipython",
    "version": 3
   },
   "file_extension": ".py",
   "mimetype": "text/x-python",
   "name": "python",
   "nbconvert_exporter": "python",
   "pygments_lexer": "ipython3",
   "version": "3.8.5"
  }
 },
 "nbformat": 4,
 "nbformat_minor": 5
}
