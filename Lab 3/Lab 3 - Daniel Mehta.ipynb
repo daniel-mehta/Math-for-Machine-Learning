{
 "cells": [
  {
   "cell_type": "markdown",
   "id": "7059be55-7e7e-4f9d-8d22-9350acde5af4",
   "metadata": {},
   "source": [
    "## Lab 3\n",
    "### Daniel Mehta #n01753264"
   ]
  },
  {
   "cell_type": "code",
   "execution_count": 2,
   "id": "038d1940-8fdb-4c03-8296-bb857d995205",
   "metadata": {},
   "outputs": [],
   "source": [
    "import numpy as np"
   ]
  },
  {
   "cell_type": "markdown",
   "id": "f29b7b15-4a1b-4439-9b6a-d865c2de518a",
   "metadata": {},
   "source": [
    "### 1A)"
   ]
  },
  {
   "cell_type": "code",
   "execution_count": 11,
   "id": "d2a22a7d-f37e-45c2-b48e-885aeba81fc4",
   "metadata": {},
   "outputs": [
    {
     "name": "stdout",
     "output_type": "stream",
     "text": [
      "A * x1 = [ 3 -1  0]\n"
     ]
    }
   ],
   "source": [
    "A = np.array([[2, 3, 0],\n",
    "              [1, 4, 3],\n",
    "              [0, 0, 1]])\n",
    "x1 = np.array([3, -1, 0])\n",
    "\n",
    "Ax1 = np.dot(A, x1)\n",
    "\n",
    "\n",
    "print(\"A * x1 =\", Ax1)"
   ]
  },
  {
   "cell_type": "code",
   "execution_count": 13,
   "id": "3b29c38c-086f-4070-9a11-b51aa5f8b6f5",
   "metadata": {},
   "outputs": [
    {
     "name": "stdout",
     "output_type": "stream",
     "text": [
      "Eigenvalue: 1.0\n",
      "Is x1 an eigenvector of A? True\n"
     ]
    }
   ],
   "source": [
    "eigenvalue = Ax1[0] / x1[0]\n",
    "\n",
    "is_eigenvector = np.allclose(Ax1, eigenvalue * x1)\n",
    "\n",
    "print(\"Eigenvalue:\", eigenvalue)\n",
    "print(\"Is x1 an eigenvector of A?\", is_eigenvector)"
   ]
  },
  {
   "cell_type": "code",
   "execution_count": null,
   "id": "fc6001b6-14b8-47fe-a8b7-7197abaa12d9",
   "metadata": {},
   "outputs": [],
   "source": []
  }
 ],
 "metadata": {
  "kernelspec": {
   "display_name": "Python 3 (ipykernel)",
   "language": "python",
   "name": "python3"
  },
  "language_info": {
   "codemirror_mode": {
    "name": "ipython",
    "version": 3
   },
   "file_extension": ".py",
   "mimetype": "text/x-python",
   "name": "python",
   "nbconvert_exporter": "python",
   "pygments_lexer": "ipython3",
   "version": "3.8.5"
  }
 },
 "nbformat": 4,
 "nbformat_minor": 5
}
