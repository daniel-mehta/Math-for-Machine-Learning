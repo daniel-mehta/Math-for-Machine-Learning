{
 "cells": [
  {
   "cell_type": "markdown",
   "id": "f4040b3d-436e-4d0a-9631-71b1848d56b2",
   "metadata": {},
   "source": [
    "Name: Daniel Mehta, ID: n01753264, Date: Jan 15, 2025"
   ]
  },
  {
   "cell_type": "code",
   "execution_count": 2,
   "id": "3afb3fc7-0de9-4875-a35d-74f4747a7800",
   "metadata": {},
   "outputs": [
    {
     "data": {
      "text/plain": [
       "<module 'numpy.version' from '/Library/Frameworks/Python.framework/Versions/3.8/lib/python3.8/site-packages/numpy/version.py'>"
      ]
     },
     "execution_count": 2,
     "metadata": {},
     "output_type": "execute_result"
    }
   ],
   "source": [
    "import numpy as np\n",
    "#np.version"
   ]
  },
  {
   "cell_type": "markdown",
   "id": "fb56063c-19fb-487a-a735-a27f7a589b85",
   "metadata": {},
   "source": [
    "Add vectors (4,6,7) and (3,4,5)"
   ]
  },
  {
   "cell_type": "code",
   "execution_count": 7,
   "id": "bf2d6547-ee88-40f2-badd-c62790569da6",
   "metadata": {},
   "outputs": [
    {
     "data": {
      "text/plain": [
       "array([ 7, 10, 12])"
      ]
     },
     "execution_count": 7,
     "metadata": {},
     "output_type": "execute_result"
    }
   ],
   "source": [
    "#Question 1\n",
    "A = np.array([4,6,7])\n",
    "B = np.array([3,4,5])\n",
    "C = np.add(A,B)\n",
    "C"
   ]
  },
  {
   "cell_type": "markdown",
   "id": "0aae8e17-96ee-4702-9866-45af3b770c2a",
   "metadata": {},
   "source": [
    "Find the dimension (Question 2)"
   ]
  },
  {
   "cell_type": "code",
   "execution_count": 11,
   "id": "99a6b640-c79c-4787-8301-0c6e47a7ce4f",
   "metadata": {},
   "outputs": [
    {
     "data": {
      "text/plain": [
       "(2, 5)"
      ]
     },
     "execution_count": 11,
     "metadata": {},
     "output_type": "execute_result"
    }
   ],
   "source": [
    "#Question 2\n",
    "\n",
    "A = np.array([[2, 7, -1, 0, 3],[4, 6, -3, 1, 8]])\n",
    "\n",
    "A.shape"
   ]
  },
  {
   "cell_type": "markdown",
   "id": "cfdaf66c-f93a-49c3-981a-aa9338c55c82",
   "metadata": {},
   "source": [
    "Find the Transpose of A (Question 3)"
   ]
  },
  {
   "cell_type": "code",
   "execution_count": 13,
   "id": "91ce2c2c-689c-4cfc-bc25-18c2ad63b0bf",
   "metadata": {},
   "outputs": [
    {
     "data": {
      "text/plain": [
       "array([[ 2,  4],\n",
       "       [ 7,  6],\n",
       "       [-1, -3],\n",
       "       [ 0,  1],\n",
       "       [ 3,  8]])"
      ]
     },
     "execution_count": 13,
     "metadata": {},
     "output_type": "execute_result"
    }
   ],
   "source": [
    "#Question 3\n",
    "Tranpose_of_A = A.T\n",
    "Tranpose_of_A"
   ]
  },
  {
   "cell_type": "markdown",
   "id": "b7eda4a4-5df7-4ca1-bc8d-2253ac564511",
   "metadata": {},
   "source": [
    "Matrix Multiplication (Question 4)"
   ]
  },
  {
   "cell_type": "code",
   "execution_count": 16,
   "id": "66629bef-ec41-41dd-8027-748074839093",
   "metadata": {},
   "outputs": [
    {
     "data": {
      "text/plain": [
       "array([[ 30,  24,  18],\n",
       "       [ 84,  69,  54],\n",
       "       [138, 114,  90]])"
      ]
     },
     "execution_count": 16,
     "metadata": {},
     "output_type": "execute_result"
    }
   ],
   "source": [
    "#Question 4\n",
    "A = np.array([[1, 2, 3], [4, 5, 6], [7, 8, 9]])\n",
    "B = np.array([[9, 8, 7], [6, 5, 4], [3, 2, 1]])\n",
    "product = np.dot(A,B)\n",
    "product\n"
   ]
  },
  {
   "cell_type": "markdown",
   "id": "420c7206-971c-4532-9614-1781c013b722",
   "metadata": {},
   "source": [
    "Find the determinant and Inverse (Question 5)"
   ]
  },
  {
   "cell_type": "code",
   "execution_count": 28,
   "id": "a13faeeb-9984-4266-8775-77b3812050e5",
   "metadata": {},
   "outputs": [
    {
     "name": "stdout",
     "output_type": "stream",
     "text": [
      "Determinant: 0.0\n",
      "Pseudoinverse: \n",
      "[[-6.38888889e-01 -1.66666667e-01  3.05555556e-01]\n",
      " [-5.55555556e-02  4.66439468e-17  5.55555556e-02]\n",
      " [ 5.27777778e-01  1.66666667e-01 -1.94444444e-01]]\n"
     ]
    }
   ],
   "source": [
    "B = np.array([[1, 2, 3], [4, 5, 6], [7, 8, 9]])\n",
    "\n",
    "inverse = np.linalg.pinv(B)\n",
    "#inverse\n",
    "\n",
    "determinant = np.linalg.det(B)\n",
    "#determinant\n",
    "\n",
    "print(f\"Determinant: {determinant}\")\n",
    "print(f\"Pseudoinverse: \\n{inverse}\")"
   ]
  },
  {
   "cell_type": "code",
   "execution_count": null,
   "id": "6cc5f7f0-457b-4b2b-87fd-7191af069644",
   "metadata": {},
   "outputs": [],
   "source": []
  },
  {
   "cell_type": "code",
   "execution_count": null,
   "id": "ddac370a-f15f-42a6-9bcd-ab36388ef188",
   "metadata": {},
   "outputs": [],
   "source": []
  }
 ],
 "metadata": {
  "kernelspec": {
   "display_name": "Python 3 (ipykernel)",
   "language": "python",
   "name": "python3"
  },
  "language_info": {
   "codemirror_mode": {
    "name": "ipython",
    "version": 3
   },
   "file_extension": ".py",
   "mimetype": "text/x-python",
   "name": "python",
   "nbconvert_exporter": "python",
   "pygments_lexer": "ipython3",
   "version": "3.8.5"
  }
 },
 "nbformat": 4,
 "nbformat_minor": 5
}
