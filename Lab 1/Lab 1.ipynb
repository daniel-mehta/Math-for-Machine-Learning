{
 "cells": [
  {
   "cell_type": "markdown",
   "id": "f4040b3d-436e-4d0a-9631-71b1848d56b2",
   "metadata": {},
   "source": [
    "Name: Daniel Mehta, ID: n01753264, Date: Jan 15, 2025"
   ]
  },
  {
   "cell_type": "code",
   "execution_count": 2,
   "id": "3afb3fc7-0de9-4875-a35d-74f4747a7800",
   "metadata": {},
   "outputs": [
    {
     "data": {
      "text/plain": [
       "<module 'numpy.version' from '/Library/Frameworks/Python.framework/Versions/3.8/lib/python3.8/site-packages/numpy/version.py'>"
      ]
     },
     "execution_count": 2,
     "metadata": {},
     "output_type": "execute_result"
    }
   ],
   "source": [
    "import numpy as np\n",
    "#np.version"
   ]
  },
  {
   "cell_type": "markdown",
   "id": "fb56063c-19fb-487a-a735-a27f7a589b85",
   "metadata": {},
   "source": [
    "Add vectors (4,6,7) and (3,4,5)"
   ]
  },
  {
   "cell_type": "code",
   "execution_count": 7,
   "id": "bf2d6547-ee88-40f2-badd-c62790569da6",
   "metadata": {},
   "outputs": [
    {
     "data": {
      "text/plain": [
       "array([ 7, 10, 12])"
      ]
     },
     "execution_count": 7,
     "metadata": {},
     "output_type": "execute_result"
    }
   ],
   "source": [
    "#Question 1\n",
    "A = np.array([4,6,7])\n",
    "B = np.array([3,4,5])\n",
    "C = np.add(A,B)\n",
    "C"
   ]
  },
  {
   "cell_type": "markdown",
   "id": "0aae8e17-96ee-4702-9866-45af3b770c2a",
   "metadata": {},
   "source": [
    "Find the dimension (Question 2)"
   ]
  },
  {
   "cell_type": "code",
   "execution_count": 11,
   "id": "99a6b640-c79c-4787-8301-0c6e47a7ce4f",
   "metadata": {},
   "outputs": [
    {
     "data": {
      "text/plain": [
       "(2, 5)"
      ]
     },
     "execution_count": 11,
     "metadata": {},
     "output_type": "execute_result"
    }
   ],
   "source": [
    "#Question 2\n",
    "\n",
    "A = np.array([[2, 7, -1, 0, 3],[4, 6, -3, 1, 8]])\n",
    "\n",
    "A.shape"
   ]
  },
  {
   "cell_type": "code",
   "execution_count": null,
   "id": "098befae-8565-4e0a-bc33-c88e2dc84c0e",
   "metadata": {},
   "outputs": [],
   "source": []
  }
 ],
 "metadata": {
  "kernelspec": {
   "display_name": "Python 3 (ipykernel)",
   "language": "python",
   "name": "python3"
  },
  "language_info": {
   "codemirror_mode": {
    "name": "ipython",
    "version": 3
   },
   "file_extension": ".py",
   "mimetype": "text/x-python",
   "name": "python",
   "nbconvert_exporter": "python",
   "pygments_lexer": "ipython3",
   "version": "3.8.5"
  }
 },
 "nbformat": 4,
 "nbformat_minor": 5
}
