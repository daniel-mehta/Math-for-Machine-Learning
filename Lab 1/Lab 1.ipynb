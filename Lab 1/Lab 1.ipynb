{
 "cells": [
  {
   "cell_type": "markdown",
   "id": "f4040b3d-436e-4d0a-9631-71b1848d56b2",
   "metadata": {},
   "source": [
    "Name: Daniel Mehta\n",
    "ID: n01753264\n",
    "Date: Jan 15, 2025"
   ]
  },
  {
   "cell_type": "code",
   "execution_count": null,
   "id": "b03140a6-1829-4666-8209-730276eb94df",
   "metadata": {},
   "outputs": [],
   "source": []
  }
 ],
 "metadata": {
  "kernelspec": {
   "display_name": "Python 3 (ipykernel)",
   "language": "python",
   "name": "python3"
  },
  "language_info": {
   "codemirror_mode": {
    "name": "ipython",
    "version": 3
   },
   "file_extension": ".py",
   "mimetype": "text/x-python",
   "name": "python",
   "nbconvert_exporter": "python",
   "pygments_lexer": "ipython3",
   "version": "3.8.5"
  }
 },
 "nbformat": 4,
 "nbformat_minor": 5
}
