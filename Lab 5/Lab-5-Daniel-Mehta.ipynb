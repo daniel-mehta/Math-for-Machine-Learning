{
 "cells": [
  {
   "cell_type": "markdown",
   "id": "cdbc8414-8b71-4d57-9725-ba63087de18f",
   "metadata": {},
   "source": [
    "## Lab 5\n",
    "### Daniel Mehta #n01753264"
   ]
  },
  {
   "cell_type": "code",
   "execution_count": 2,
   "id": "b27d3a54-8dab-4412-88a1-2dc99e37439b",
   "metadata": {},
   "outputs": [],
   "source": [
    "import numpy as np\n",
    "import pandas as pd\n",
    "import os\n",
    "import random\n",
    "import scipy.stats as stats\n",
    "import matplotlib.pyplot as plt\n",
    "from itertools import permutations, combinations, combinations_with_replacement"
   ]
  },
  {
   "cell_type": "markdown",
   "id": "7642f747-3c73-4193-8465-a553e7b4feab",
   "metadata": {},
   "source": [
    "## Question 1\n",
    "3 vertices (corners) of a regular hexagon are randomly joined. What is the probability that an\n",
    "equilateral triangle is formed?"
   ]
  },
  {
   "cell_type": "code",
   "execution_count": 9,
   "id": "008804c6-04d8-4b81-ba98-154e1faa4d8e",
   "metadata": {},
   "outputs": [
    {
     "name": "stdout",
     "output_type": "stream",
     "text": [
      "Probability of forming an equilateral triangle: 0.2\n"
     ]
    }
   ],
   "source": [
    "vertices = [1,2,3,4,5,6]\n",
    "\n",
    "all_triangles = list(combinations(vertices,3))\n",
    "\n",
    "equilateral_triangles = [(1,3,5),(2,4,6),(1,4,6),(2,3,5)]\n",
    "\n",
    "probability = len(equilateral_triangles) / len(all_triangles)\n",
    "\n",
    "print(f\"Probability of forming an equilateral triangle: {probability}\")"
   ]
  },
  {
   "cell_type": "markdown",
   "id": "ec9e89e2-a54c-43ca-abdd-a2a9aa39116b",
   "metadata": {},
   "source": [
    "## Question 2\n",
    "3 persons A, B, C independently fire at a target. What is the probability that (i) Exactly one of\n",
    "them hits the target, (ii) At least one of them hits the target? Given: Probability of hitting the\n",
    "target. P(A) = 1/6, P(B) = 1/4, P(C) = 1/3"
   ]
  },
  {
   "cell_type": "code",
   "execution_count": 16,
   "id": "c8b969f6-eb65-483d-9a82-f2d803fa1532",
   "metadata": {},
   "outputs": [
    {
     "name": "stdout",
     "output_type": "stream",
     "text": [
      "Probability of exactly one person hitting the target: 0.4306\n"
     ]
    }
   ],
   "source": [
    "P_A = 1/6\n",
    "P_B = 1/4\n",
    "P_C = 1/3\n",
    "\n",
    "P_A_miss = 1-P_A #5/6\n",
    "P_B_miss = 1-P_B #3/4\n",
    "P_C_miss = 1-P_C #2/3\n",
    "\n",
    "\n",
    "P_one_hit =(P_A*P_B_miss*P_C_miss)+ (P_A_miss*P_B*P_C_miss)+(P_A_miss * P_B_miss * P_C) \n",
    "P_one_hit\n",
    "print(f\"Probability of exactly one person hitting the target: {P_one_hit:.4f}\")"
   ]
  },
  {
   "cell_type": "markdown",
   "id": "b5c755b3-1018-4999-b206-192721fb88e9",
   "metadata": {},
   "source": [
    "## Question 3\n",
    "The probability that a teacher gives a surprise test is 0.55. If a student remains absent for two\n",
    "days. What is the probability that he misses exactly one test, and at most one test?"
   ]
  },
  {
   "cell_type": "code",
   "execution_count": 22,
   "id": "b80e9ec5-313d-4aad-9307-7ecb8bc3cb3d",
   "metadata": {},
   "outputs": [
    {
     "name": "stdout",
     "output_type": "stream",
     "text": [
      "Probability of missing at most one test: 0.6975\n"
     ]
    }
   ],
   "source": [
    "P_T=0.55\n",
    "P_T_miss = 1 -P_T #0.45\n",
    "\n",
    "P_exactly_one = (P_T * P_T_miss)+(P_T_miss*P_T)\n",
    "P_at_most_one = P_no_test + P_exactly_one\n",
    "P_at_most_one\n",
    "print(f\"Probability of missing at most one test: {P_at_most_one:.4f}\")"
   ]
  },
  {
   "cell_type": "markdown",
   "id": "010c5d4f-8c1a-46c5-b1be-3af8dca2c872",
   "metadata": {},
   "source": [
    "## Question 4\n",
    "A box contains 2 defective pens and 3 working pens. Pens are tested one by one until both\n",
    "defective ones are discovered. What is the probability that the testing procedure comes to an\n",
    "end at the end of (i) 2nd testing, (ii) 3rd testing?"
   ]
  },
  {
   "cell_type": "code",
   "execution_count": 23,
   "id": "abe77372-193e-42fa-82c3-74c6dbeadd5e",
   "metadata": {},
   "outputs": [
    {
     "name": "stdout",
     "output_type": "stream",
     "text": [
      "Probability that testing ends at 2nd test: 0.1\n",
      "Probability that testing ends at 3rd test: 0.2\n"
     ]
    }
   ],
   "source": [
    "P_end_2nd = (2/5)*(1/4)\n",
    "\n",
    "P_DWD = (2/5)*(3/4)*(1/3)\n",
    "P_WDD = (3/5)*(2/4)*(1/3) \n",
    "\n",
    "P_end_3rd = P_DWD+P_WDD\n",
    "\n",
    "print(f\"Probability that testing ends at 2nd test: {P_end_2nd}\")\n",
    "print(f\"Probability that testing ends at 3rd test: {P_end_3rd}\")"
   ]
  },
  {
   "cell_type": "code",
   "execution_count": null,
   "id": "a2f618fe-c079-4577-a8af-d8c5c84eb0d5",
   "metadata": {},
   "outputs": [],
   "source": []
  }
 ],
 "metadata": {
  "kernelspec": {
   "display_name": "Python 3 (ipykernel)",
   "language": "python",
   "name": "python3"
  },
  "language_info": {
   "codemirror_mode": {
    "name": "ipython",
    "version": 3
   },
   "file_extension": ".py",
   "mimetype": "text/x-python",
   "name": "python",
   "nbconvert_exporter": "python",
   "pygments_lexer": "ipython3",
   "version": "3.8.5"
  }
 },
 "nbformat": 4,
 "nbformat_minor": 5
}
