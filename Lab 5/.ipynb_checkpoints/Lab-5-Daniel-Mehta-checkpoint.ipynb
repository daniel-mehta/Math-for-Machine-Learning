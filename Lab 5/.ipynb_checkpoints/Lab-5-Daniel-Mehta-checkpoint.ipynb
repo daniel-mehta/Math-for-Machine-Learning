{
 "cells": [
  {
   "cell_type": "markdown",
   "id": "cdbc8414-8b71-4d57-9725-ba63087de18f",
   "metadata": {},
   "source": [
    "## Lab 5\n",
    "### Daniel Mehta #n01753264"
   ]
  },
  {
   "cell_type": "code",
   "execution_count": 2,
   "id": "b27d3a54-8dab-4412-88a1-2dc99e37439b",
   "metadata": {},
   "outputs": [],
   "source": [
    "import numpy as np\n",
    "import pandas as pd\n",
    "import os\n",
    "import random\n",
    "import scipy.stats as stats\n",
    "import matplotlib.pyplot as plt\n",
    "from itertools import permutations, combinations, combinations_with_replacement"
   ]
  },
  {
   "cell_type": "markdown",
   "id": "7642f747-3c73-4193-8465-a553e7b4feab",
   "metadata": {},
   "source": [
    "## Question 1\n",
    "3 vertices (corners) of a regular hexagon are randomly joined. What is the probability that an\n",
    "equilateral triangle is formed?"
   ]
  },
  {
   "cell_type": "code",
   "execution_count": 9,
   "id": "008804c6-04d8-4b81-ba98-154e1faa4d8e",
   "metadata": {},
   "outputs": [
    {
     "name": "stdout",
     "output_type": "stream",
     "text": [
      "Probability of forming an equilateral triangle: 0.2\n"
     ]
    }
   ],
   "source": [
    "vertices = [1,2,3,4,5,6]\n",
    "\n",
    "all_triangles = list(combinations(vertices,3))\n",
    "\n",
    "equilateral_triangles = [(1,3,5),(2,4,6),(1,4,6),(2,3,5)]\n",
    "\n",
    "probability = len(equilateral_triangles) / len(all_triangles)\n",
    "\n",
    "print(f\"Probability of forming an equilateral triangle: {probability}\")"
   ]
  },
  {
   "cell_type": "code",
   "execution_count": null,
   "id": "4d636303-57f4-48c8-bada-d544021a2d7d",
   "metadata": {},
   "outputs": [],
   "source": []
  }
 ],
 "metadata": {
  "kernelspec": {
   "display_name": "Python 3 (ipykernel)",
   "language": "python",
   "name": "python3"
  },
  "language_info": {
   "codemirror_mode": {
    "name": "ipython",
    "version": 3
   },
   "file_extension": ".py",
   "mimetype": "text/x-python",
   "name": "python",
   "nbconvert_exporter": "python",
   "pygments_lexer": "ipython3",
   "version": "3.8.5"
  }
 },
 "nbformat": 4,
 "nbformat_minor": 5
}
