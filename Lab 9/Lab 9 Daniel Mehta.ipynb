{
 "cells": [
  {
   "cell_type": "markdown",
   "id": "4fc17eb6-6d01-498d-9424-7a221ab31017",
   "metadata": {},
   "source": [
    "# Lab 9\n",
    "## Daniel Mehta n01753264"
   ]
  },
  {
   "cell_type": "code",
   "execution_count": null,
   "id": "157286bc-a6ee-43e2-a30b-5cc471e060cb",
   "metadata": {},
   "outputs": [],
   "source": []
  }
 ],
 "metadata": {
  "kernelspec": {
   "display_name": "Python 3 (ipykernel)",
   "language": "python",
   "name": "python3"
  },
  "language_info": {
   "codemirror_mode": {
    "name": "ipython",
    "version": 3
   },
   "file_extension": ".py",
   "mimetype": "text/x-python",
   "name": "python",
   "nbconvert_exporter": "python",
   "pygments_lexer": "ipython3",
   "version": "3.8.5"
  }
 },
 "nbformat": 4,
 "nbformat_minor": 5
}
