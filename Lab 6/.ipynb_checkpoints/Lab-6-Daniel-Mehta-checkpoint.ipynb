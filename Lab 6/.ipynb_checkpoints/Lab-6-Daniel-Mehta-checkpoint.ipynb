{
 "cells": [
  {
   "cell_type": "markdown",
   "id": "c7ff6d17-5926-4404-a2b1-902dabd5dde9",
   "metadata": {},
   "source": [
    "## Lab 5\n",
    "### Daniel Mehta #n01753264"
   ]
  },
  {
   "cell_type": "markdown",
   "id": "1616323e-3cb6-4047-9745-bb1d17c2a95a",
   "metadata": {},
   "source": [
    "## Q1\n",
    "A standard deck of 52 playing cards contains 12 face cards (J, Q, K), out of which 4 are Kings. Write\n",
    "a Python function to calculate P (King| FaceCard)."
   ]
  },
  {
   "cell_type": "code",
   "execution_count": 1,
   "id": "d207e13a-5770-41ff-9199-79bff3bd1b5f",
   "metadata": {},
   "outputs": [
    {
     "name": "stdout",
     "output_type": "stream",
     "text": [
      "P(King | FaceCard) = 0.3333333333333333\n"
     ]
    }
   ],
   "source": [
    "def P_King_FaceCard():\n",
    "    king = 4\n",
    "    face_card = 12\n",
    "    return king / face_card\n",
    "\n",
    "prob = P_King_FaceCard()\n",
    "print(f\"P(King | FaceCard) = {prob}\")"
   ]
  },
  {
   "cell_type": "code",
   "execution_count": null,
   "id": "e276169f-45c2-44d9-9637-ea144cfd4407",
   "metadata": {},
   "outputs": [],
   "source": []
  }
 ],
 "metadata": {
  "kernelspec": {
   "display_name": "Python 3 (ipykernel)",
   "language": "python",
   "name": "python3"
  },
  "language_info": {
   "codemirror_mode": {
    "name": "ipython",
    "version": 3
   },
   "file_extension": ".py",
   "mimetype": "text/x-python",
   "name": "python",
   "nbconvert_exporter": "python",
   "pygments_lexer": "ipython3",
   "version": "3.8.5"
  }
 },
 "nbformat": 4,
 "nbformat_minor": 5
}
