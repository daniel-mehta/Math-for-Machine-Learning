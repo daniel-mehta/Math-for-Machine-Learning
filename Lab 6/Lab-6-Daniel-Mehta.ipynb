{
 "cells": [
  {
   "cell_type": "markdown",
   "id": "c7ff6d17-5926-4404-a2b1-902dabd5dde9",
   "metadata": {},
   "source": [
    "## Lab 5\n",
    "### Daniel Mehta #n01753264"
   ]
  },
  {
   "cell_type": "markdown",
   "id": "1616323e-3cb6-4047-9745-bb1d17c2a95a",
   "metadata": {},
   "source": [
    "## Q1\n",
    "A standard deck of 52 playing cards contains 12 face cards (J, Q, K), out of which 4 are Kings. Write\n",
    "a Python function to calculate P (King| FaceCard)."
   ]
  },
  {
   "cell_type": "code",
   "execution_count": 1,
   "id": "d207e13a-5770-41ff-9199-79bff3bd1b5f",
   "metadata": {},
   "outputs": [
    {
     "name": "stdout",
     "output_type": "stream",
     "text": [
      "P(King | FaceCard) = 0.3333333333333333\n"
     ]
    }
   ],
   "source": [
    "def P_King_FaceCard():\n",
    "    king = 4\n",
    "    face_card = 12\n",
    "    return king / face_card\n",
    "\n",
    "prob = P_King_FaceCard()\n",
    "print(f\"P(King | FaceCard) = {prob}\")"
   ]
  },
  {
   "cell_type": "markdown",
   "id": "e16b65b8-2a55-4a0a-a399-d13cc19eacf6",
   "metadata": {},
   "source": [
    "## Q2\n",
    "Write a Python function to simulate rolling two six-sided dice and compute: P(Sum=8)"
   ]
  },
  {
   "cell_type": "code",
   "execution_count": 2,
   "id": "7b05e9eb-891d-4230-a681-8831080ce8f1",
   "metadata": {},
   "outputs": [
    {
     "name": "stdout",
     "output_type": "stream",
     "text": [
      "P(Sum of 8) = 0.1388888888888889\n"
     ]
    }
   ],
   "source": [
    "def dice_probability():\n",
    "    count = 0\n",
    "    total = 0\n",
    "    \n",
    "    for die1 in range(1, 7):\n",
    "        for die2 in range(1, 7):\n",
    "            total += 1\n",
    "            if die1 + die2 == 8:\n",
    "                count += 1\n",
    "    return count / total\n",
    "prob = dice_probability()\n",
    "print(f\"P(Sum of 8) = {prob}\")"
   ]
  },
  {
   "cell_type": "code",
   "execution_count": null,
   "id": "d8009807-3c70-4b8b-91ff-46f0848c70da",
   "metadata": {},
   "outputs": [],
   "source": []
  }
 ],
 "metadata": {
  "kernelspec": {
   "display_name": "Python 3 (ipykernel)",
   "language": "python",
   "name": "python3"
  },
  "language_info": {
   "codemirror_mode": {
    "name": "ipython",
    "version": 3
   },
   "file_extension": ".py",
   "mimetype": "text/x-python",
   "name": "python",
   "nbconvert_exporter": "python",
   "pygments_lexer": "ipython3",
   "version": "3.8.5"
  }
 },
 "nbformat": 4,
 "nbformat_minor": 5
}
