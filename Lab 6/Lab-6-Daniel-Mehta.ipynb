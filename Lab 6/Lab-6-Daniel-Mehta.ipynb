{
 "cells": [
  {
   "cell_type": "markdown",
   "id": "c7ff6d17-5926-4404-a2b1-902dabd5dde9",
   "metadata": {},
   "source": [
    "## Lab 5\n",
    "### Daniel Mehta #n01753264"
   ]
  },
  {
   "cell_type": "code",
   "execution_count": 5,
   "id": "ceaf945c-a484-4972-b4e4-7efc70070d47",
   "metadata": {},
   "outputs": [],
   "source": [
    "import math"
   ]
  },
  {
   "cell_type": "markdown",
   "id": "1616323e-3cb6-4047-9745-bb1d17c2a95a",
   "metadata": {},
   "source": [
    "## Q1\n",
    "A standard deck of 52 playing cards contains 12 face cards (J, Q, K), out of which 4 are Kings. Write\n",
    "a Python function to calculate P (King| FaceCard)."
   ]
  },
  {
   "cell_type": "code",
   "execution_count": 1,
   "id": "d207e13a-5770-41ff-9199-79bff3bd1b5f",
   "metadata": {},
   "outputs": [
    {
     "name": "stdout",
     "output_type": "stream",
     "text": [
      "P(King | FaceCard) = 0.3333333333333333\n"
     ]
    }
   ],
   "source": [
    "def P_King_FaceCard():\n",
    "    king = 4\n",
    "    face_card = 12\n",
    "    return king / face_card\n",
    "\n",
    "prob = P_King_FaceCard()\n",
    "print(f\"P(King | FaceCard) = {prob}\")"
   ]
  },
  {
   "cell_type": "markdown",
   "id": "e16b65b8-2a55-4a0a-a399-d13cc19eacf6",
   "metadata": {},
   "source": [
    "## Q2\n",
    "Write a Python function to simulate rolling two six-sided dice and compute: P(Sum=8)"
   ]
  },
  {
   "cell_type": "code",
   "execution_count": 2,
   "id": "7b05e9eb-891d-4230-a681-8831080ce8f1",
   "metadata": {},
   "outputs": [
    {
     "name": "stdout",
     "output_type": "stream",
     "text": [
      "P(Sum of 8) = 0.1388888888888889\n"
     ]
    }
   ],
   "source": [
    "def dice_probability():\n",
    "    count = 0\n",
    "    total = 0\n",
    "    \n",
    "    for die1 in range(1, 7):\n",
    "        for die2 in range(1, 7):\n",
    "            total += 1\n",
    "            if die1 + die2 == 8:\n",
    "                count += 1\n",
    "    return count / total\n",
    "prob = dice_probability()\n",
    "print(f\"P(Sum of 8) = {prob}\")"
   ]
  },
  {
   "cell_type": "markdown",
   "id": "781a3f93-f47e-4914-8896-22ad2547bff1",
   "metadata": {},
   "source": [
    "## Q3\n",
    "A standard deck has 4 Aces out of 52 cards. If one card is drawn and not replaced, what is the\n",
    "probability of drawing two Aces in a row?"
   ]
  },
  {
   "cell_type": "code",
   "execution_count": 4,
   "id": "3b3da5e9-3ea0-4b60-a6d1-e70384604435",
   "metadata": {},
   "outputs": [
    {
     "name": "stdout",
     "output_type": "stream",
     "text": [
      "P(Drawing two Aces) = 0.004524886877828055\n"
     ]
    }
   ],
   "source": [
    "def prob_of_two_ace():\n",
    "    first_ace = 4 / 52\n",
    "    second_ace = 3 / 51\n",
    "    return first_ace * second_ace\n",
    "\n",
    "prob = prob_of_two_ace()\n",
    "print(f\"P(Drawing two Aces) = {prob}\")"
   ]
  },
  {
   "cell_type": "markdown",
   "id": "f254a85b-7d8e-4194-b45e-917fd2209799",
   "metadata": {},
   "source": [
    "## Q4\n",
    "Write a function to calculate how many ways 4 books can be arranged on a shelf."
   ]
  },
  {
   "cell_type": "code",
   "execution_count": 8,
   "id": "ae5b0b71-4518-4d09-aff0-f9e267ea2f6f",
   "metadata": {},
   "outputs": [
    {
     "name": "stdout",
     "output_type": "stream",
     "text": [
      "The number of ways to arrange 4 books on a shelf is: 24\n"
     ]
    }
   ],
   "source": [
    "def four_books():\n",
    "    return math.factorial(4)\n",
    "num = four_books()\n",
    "print(f\"The number of ways to arrange 4 books on a shelf is: {num}\")"
   ]
  },
  {
   "cell_type": "code",
   "execution_count": null,
   "id": "0a4ad799-b35b-4331-829c-556b53caf153",
   "metadata": {},
   "outputs": [],
   "source": []
  }
 ],
 "metadata": {
  "kernelspec": {
   "display_name": "Python 3 (ipykernel)",
   "language": "python",
   "name": "python3"
  },
  "language_info": {
   "codemirror_mode": {
    "name": "ipython",
    "version": 3
   },
   "file_extension": ".py",
   "mimetype": "text/x-python",
   "name": "python",
   "nbconvert_exporter": "python",
   "pygments_lexer": "ipython3",
   "version": "3.8.5"
  }
 },
 "nbformat": 4,
 "nbformat_minor": 5
}
