{
 "cells": [
  {
   "cell_type": "markdown",
   "id": "c7ff6d17-5926-4404-a2b1-902dabd5dde9",
   "metadata": {},
   "source": [
    "## Lab 5\n",
    "### Daniel Mehta #n01753264"
   ]
  },
  {
   "cell_type": "code",
   "execution_count": 19,
   "id": "ceaf945c-a484-4972-b4e4-7efc70070d47",
   "metadata": {},
   "outputs": [],
   "source": [
    "import math\n",
    "from itertools import combinations \n",
    "import random\n",
    "from itertools import product"
   ]
  },
  {
   "cell_type": "markdown",
   "id": "1616323e-3cb6-4047-9745-bb1d17c2a95a",
   "metadata": {},
   "source": [
    "## Q1\n",
    "A standard deck of 52 playing cards contains 12 face cards (J, Q, K), out of which 4 are Kings. Write\n",
    "a Python function to calculate P (King| FaceCard)."
   ]
  },
  {
   "cell_type": "code",
   "execution_count": 1,
   "id": "d207e13a-5770-41ff-9199-79bff3bd1b5f",
   "metadata": {},
   "outputs": [
    {
     "name": "stdout",
     "output_type": "stream",
     "text": [
      "P(King | FaceCard) = 0.3333333333333333\n"
     ]
    }
   ],
   "source": [
    "def P_King_FaceCard():\n",
    "    king = 4\n",
    "    face_card = 12\n",
    "    return king / face_card\n",
    "\n",
    "prob = P_King_FaceCard()\n",
    "print(f\"P(King | FaceCard) = {prob}\")"
   ]
  },
  {
   "cell_type": "markdown",
   "id": "e16b65b8-2a55-4a0a-a399-d13cc19eacf6",
   "metadata": {},
   "source": [
    "## Q2\n",
    "Write a Python function to simulate rolling two six-sided dice and compute: P(Sum=8)"
   ]
  },
  {
   "cell_type": "code",
   "execution_count": 2,
   "id": "7b05e9eb-891d-4230-a681-8831080ce8f1",
   "metadata": {},
   "outputs": [
    {
     "name": "stdout",
     "output_type": "stream",
     "text": [
      "P(Sum of 8) = 0.1388888888888889\n"
     ]
    }
   ],
   "source": [
    "def dice_probability():\n",
    "    count = 0\n",
    "    total = 0\n",
    "    \n",
    "    for die1 in range(1, 7):\n",
    "        for die2 in range(1, 7):\n",
    "            total += 1\n",
    "            if die1 + die2 == 8:\n",
    "                count += 1\n",
    "    return count / total\n",
    "prob = dice_probability()\n",
    "print(f\"P(Sum of 8) = {prob}\")"
   ]
  },
  {
   "cell_type": "markdown",
   "id": "781a3f93-f47e-4914-8896-22ad2547bff1",
   "metadata": {},
   "source": [
    "## Q3\n",
    "A standard deck has 4 Aces out of 52 cards. If one card is drawn and not replaced, what is the\n",
    "probability of drawing two Aces in a row?"
   ]
  },
  {
   "cell_type": "code",
   "execution_count": 4,
   "id": "3b3da5e9-3ea0-4b60-a6d1-e70384604435",
   "metadata": {},
   "outputs": [
    {
     "name": "stdout",
     "output_type": "stream",
     "text": [
      "P(Drawing two Aces) = 0.004524886877828055\n"
     ]
    }
   ],
   "source": [
    "def prob_of_two_ace():\n",
    "    first_ace = 4 / 52\n",
    "    second_ace = 3 / 51\n",
    "    return first_ace * second_ace\n",
    "\n",
    "prob = prob_of_two_ace()\n",
    "print(f\"P(Drawing two Aces) = {prob}\")"
   ]
  },
  {
   "cell_type": "markdown",
   "id": "f254a85b-7d8e-4194-b45e-917fd2209799",
   "metadata": {},
   "source": [
    "## Q4\n",
    "Write a function to calculate how many ways 4 books can be arranged on a shelf."
   ]
  },
  {
   "cell_type": "code",
   "execution_count": 8,
   "id": "ae5b0b71-4518-4d09-aff0-f9e267ea2f6f",
   "metadata": {},
   "outputs": [
    {
     "name": "stdout",
     "output_type": "stream",
     "text": [
      "The number of ways to arrange 4 books on a shelf is: 24\n"
     ]
    }
   ],
   "source": [
    "def four_books():\n",
    "    return math.factorial(4)\n",
    "num = four_books()\n",
    "print(f\"The number of ways to arrange 4 books on a shelf is: {num}\")"
   ]
  },
  {
   "cell_type": "markdown",
   "id": "a8faa370-425a-456b-b8d3-5a2b390636e1",
   "metadata": {},
   "source": [
    "## Q5\n",
    "Write a function to compute the number of ways to choose 3 people from 10 for a committee"
   ]
  },
  {
   "cell_type": "code",
   "execution_count": 14,
   "id": "99da929b-93bf-4f36-bdb0-858787716744",
   "metadata": {},
   "outputs": [
    {
     "name": "stdout",
     "output_type": "stream",
     "text": [
      "The number of ways to choose 3 people from 10 is: 120\n"
     ]
    }
   ],
   "source": [
    "def choose_3_of_10():\n",
    "    return len(list(combinations(range(10), 3)))\n",
    "\n",
    "num = choose_3_of_10()\n",
    "print(f\"The number of ways to choose 3 people from 10 is: {num}\")"
   ]
  },
  {
   "cell_type": "markdown",
   "id": "6afb8b73-1639-4f91-97e6-a97421509e04",
   "metadata": {},
   "source": [
    "## Q6\n",
    "Write a function to compute the number of possible 5-letter passwords using 26 letters if i) Repetition\n",
    "is allowed and ii) Repetition is not allowed."
   ]
  },
  {
   "cell_type": "code",
   "execution_count": 15,
   "id": "4023c8f1-8a6c-4292-a748-8ed31370b3a3",
   "metadata": {},
   "outputs": [
    {
     "name": "stdout",
     "output_type": "stream",
     "text": [
      "i) Number of 5-letter passwords with repetition: 11881376\n",
      "ii) Number of 5-letter passwords without repetition: 7893600\n"
     ]
    }
   ],
   "source": [
    "def password_combination():\n",
    "    #i) with reputition\n",
    "    with_rep = 26 ** 5\n",
    "\n",
    "    #ii) without reputition\n",
    "    without_rep = math.perm(26, 5)\n",
    "\n",
    "    return with_rep, without_rep\n",
    "\n",
    "with_rep, without_rep = password_combination()\n",
    "\n",
    "print(f\"i) Number of 5-letter passwords with repetition: {with_rep}\")\n",
    "print(f\"ii) Number of 5-letter passwords without repetition: {without_rep}\")"
   ]
  },
  {
   "cell_type": "markdown",
   "id": "c1ac31ad-023c-4a17-b892-7bac15a92aff",
   "metadata": {},
   "source": [
    "## Q7\n",
    "Simulate 3 fair coin tosses and compute the probability of getting at least one Heads."
   ]
  },
  {
   "cell_type": "code",
   "execution_count": 20,
   "id": "9bb654d7-9d40-4840-9a93-967991052bc1",
   "metadata": {},
   "outputs": [
    {
     "name": "stdout",
     "output_type": "stream",
     "text": [
      "Probability of getting at least one Heads in 3 tosses: 0.875\n"
     ]
    }
   ],
   "source": [
    "def sim_coin_toss():\n",
    "    outcomes = list(product(['H', 'T'],repeat=3))\n",
    "    total = len(outcomes)\n",
    "\n",
    "    favorable = sum(1 for outcome in outcomes if 'H' in outcome)\n",
    "    return favorable / total\n",
    "prob = sim_coin_toss()\n",
    "print(f\"Probability of getting at least one Heads in 3 tosses: {prob}\")"
   ]
  },
  {
   "cell_type": "code",
   "execution_count": null,
   "id": "bb50b48c-2266-45c5-b711-334b1133b3e4",
   "metadata": {},
   "outputs": [],
   "source": []
  }
 ],
 "metadata": {
  "kernelspec": {
   "display_name": "Python 3 (ipykernel)",
   "language": "python",
   "name": "python3"
  },
  "language_info": {
   "codemirror_mode": {
    "name": "ipython",
    "version": 3
   },
   "file_extension": ".py",
   "mimetype": "text/x-python",
   "name": "python",
   "nbconvert_exporter": "python",
   "pygments_lexer": "ipython3",
   "version": "3.8.5"
  }
 },
 "nbformat": 4,
 "nbformat_minor": 5
}
